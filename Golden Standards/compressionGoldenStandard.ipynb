{
 "cells": [
  {
   "cell_type": "markdown",
   "metadata": {},
   "source": [
    "# Audio Compressor Golden Standard\n",
    "\n",
    "Changing ```thresholdPercent``` and ```ratio``` allows one to adjust the peak threshold level and compression ratio"
   ]
  },
  {
   "cell_type": "code",
   "execution_count": 13,
   "metadata": {
    "scrolled": false
   },
   "outputs": [
    {
     "name": "stdout",
     "output_type": "stream",
     "text": [
      "Old Maximum Sample: 0.344\n",
      "New Maximum Sample: 0.344\n",
      "function time = 244 milliseconds"
     ]
    }
   ],
   "source": [
    "using WAV\n",
    "using FFTW\n",
    "using Plots\n",
    "using Dates\n",
    "\n",
    "## Reading in the WAV file and converting into dB\n",
    "x, fs, bitlev, opt = WAV.wavread(\"StarWarsAudio.wav\")\n",
    "\n",
    "X = zeros(length(x))\n",
    "\n",
    "for i = 1:length(x)\n",
    "    if x[i] == 0\n",
    "        X[i] = 0\n",
    "    else\n",
    "        X[i] = 20*log10(abs(x[i]))\n",
    "    end\n",
    "end\n",
    "\n",
    "## Threshold Calcs\n",
    "thresholdPercent = 0.30\n",
    "ratio = 6\n",
    "max = maximum(X)\n",
    "thresholdVal = max*thresholdPercent\n",
    "\n",
    "## Output Array Setup\n",
    "Y = zeros(length(X))\n",
    "\n",
    "ti = Dates.now() #start timer\n",
    "\n",
    "## Audio Sample Compressor\n",
    "for i = 1:length(X)\n",
    "    if X[i] > thresholdVal\n",
    "        Y[i] = (1/ratio)*(X[i] + thresholdVal) - thresholdVal\n",
    "    else\n",
    "        Y[i] = X[i]\n",
    "    end\n",
    "end\n",
    "\n",
    "## Reconstruct Audio\n",
    "for i = 1:length(X)\n",
    "    if x[i] == 0\n",
    "        Y[i] = 0\n",
    "    elseif x[i] < 0\n",
    "        Y[i] = -1*(10^(Y[i]/20))\n",
    "    else\n",
    "        Y[i] = 10^(Y[i]/20)\n",
    "    end\n",
    "end\n",
    "\n",
    "te = Dates.now() #stop timer\n",
    "\n",
    "print(\"Old Maximum Sample: \", round(maximum(abs.(x)), digits = 3))\n",
    "print(\"\\nNew Maximum Sample: \", round(maximum(abs.(Y)), digits = 3))\n",
    "# print(\"\\nAverage Reduction: \", round(maximum(abs.(Y))/maximum(abs.(x))*100, digits = 2), \"%\")\n",
    "\n",
    "WAV.wavwrite(Y, \"compressed.wav\", Fs=fs)\n",
    "\n",
    "F = fft(Y)\n",
    "freqs = fftfreq(length(Y), 48000)\n",
    "plot(freqs, abs.(F), title = \"Spectrum\", xlim=(-1000, +1000))\n",
    "\n",
    "print(\"\\nfunction time = \", te-ti) #time taken to compress audio"
   ]
  },
  {
   "cell_type": "code",
   "execution_count": null,
   "metadata": {},
   "outputs": [],
   "source": []
  },
  {
   "cell_type": "markdown",
   "metadata": {},
   "source": [
    "# References:\n",
    "\n",
    "https://www.audiolabs-erlangen.de/resources/MIR/FMP/C3/C3S1_LogCompression.html\n",
    "\n",
    "https://jstage.jst.go.jp/article/ast/29/6/29_6_372/_pdf/-char/en\n",
    "\n",
    "https://docs.juliahub.com/WAV/bHvvS/1.1.0/#WAV.wavwrite"
   ]
  }
 ],
 "metadata": {
  "kernelspec": {
   "display_name": "Julia 1.5.4",
   "language": "julia",
   "name": "julia-1.5"
  },
  "language_info": {
   "file_extension": ".jl",
   "mimetype": "application/julia",
   "name": "julia",
   "version": "1.5.4"
  }
 },
 "nbformat": 4,
 "nbformat_minor": 2
}
