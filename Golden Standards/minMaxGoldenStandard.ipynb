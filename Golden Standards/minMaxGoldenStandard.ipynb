{
 "cells": [
  {
   "cell_type": "markdown",
   "metadata": {},
   "source": [
    "# Minimum and Maximum Values Golden Standard"
   ]
  },
  {
   "cell_type": "code",
   "execution_count": 15,
   "metadata": {},
   "outputs": [
    {
     "name": "stdout",
     "output_type": "stream",
     "text": [
      "min = -0.2857753227332377\n",
      "max = 0.34409619434186833\n",
      "number of samples = 487158\n",
      "min location = 337942\n",
      "max location = 53454\n",
      "function time = 82 milliseconds\n"
     ]
    }
   ],
   "source": [
    "using WAV\n",
    "using Dates\n",
    "\n",
    "# Reading the audio wave into variables\n",
    "y, fs, nbits, opt = wavread(\"StarWarsAudio.wav\") #values between -1.0 and 1 are read into array y\n",
    "\n",
    "min = 0 #set inital max val to 0\n",
    "max = 0 #set inital min val to 0\n",
    "\n",
    "max_place = 0 #set initial location of max val\n",
    "min_place = 0 #set initial location of min val\n",
    "\n",
    "ti = Dates.now() #start timer\n",
    "\n",
    "for i = 1:length(y)\n",
    "    if y[i]>max      #if y val is greater than current max, change current max - 'maximum' function can be used, \n",
    "        max = y[i]   #however, we also wish to find its position\n",
    "        max_place = i\n",
    "    end\n",
    "    if y[i]<min      #if y val is less than current min, change current min - same issue as max\n",
    "        min = y[i]\n",
    "        min_place = i\n",
    "    end\n",
    "end\n",
    "\n",
    "te = Dates.now() #stop timer\n",
    "\n",
    "print(\"min = \", min, \"\\n\")\n",
    "print(\"max = \", max, \"\\n\")\n",
    "print(\"number of samples = \", length(y), \"\\n\")\n",
    "print(\"min location = \", min_place, \"\\n\")\n",
    "print(\"max location = \", max_place, \"\\n\")\n",
    "print(\"function time = \", te-ti, \"\\n\") #time taken to find min and max"
   ]
  },
  {
   "cell_type": "code",
   "execution_count": null,
   "metadata": {},
   "outputs": [],
   "source": []
  }
 ],
 "metadata": {
  "kernelspec": {
   "display_name": "Julia 1.5.4",
   "language": "julia",
   "name": "julia-1.5"
  },
  "language_info": {
   "file_extension": ".jl",
   "mimetype": "application/julia",
   "name": "julia",
   "version": "1.5.4"
  }
 },
 "nbformat": 4,
 "nbformat_minor": 4
}
